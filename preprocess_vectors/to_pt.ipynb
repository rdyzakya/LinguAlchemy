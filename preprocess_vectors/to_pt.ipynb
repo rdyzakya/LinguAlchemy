{
 "cells": [
  {
   "cell_type": "code",
   "execution_count": 19,
   "id": "088c73d5",
   "metadata": {},
   "outputs": [],
   "source": [
    "import glob"
   ]
  },
  {
   "cell_type": "code",
   "execution_count": 20,
   "id": "418059fe",
   "metadata": {},
   "outputs": [],
   "source": [
    "iso_to_locale = {\n",
    "    'afr': 'af-ZA', 'amh': 'am-ET', 'ara': 'ar-SA', 'aze': 'az-AZ', 'ben': 'bn-BD', 'cat': 'ca-ES', 'zho': 'zh-CN', 'zho': 'zh-TW', 'dan': 'da-DK', 'deu': 'de-DE', 'ell': 'el-GR', 'eng': 'en-US', 'spa': 'es-ES',\n",
    "    'fas': 'fa-IR', 'fin': 'fi-FI', 'fra': 'fr-FR', 'heb': 'he-IL', 'hun': 'hu-HU', 'hye': 'hy-AM', 'ind': 'id-ID', 'isl': 'is-IS', 'ita': 'it-IT', 'jpn': 'ja-JP', 'jav': 'jv-ID', 'kat': 'ka-GE', 'khm': 'km-KH',\n",
    "    'kor': 'ko-KR', 'lav': 'lv-LV', 'mon': 'mn-MN', 'msa': 'ms-MY', 'mya': 'my-MM', 'nor': 'nb-NO', 'nld': 'nl-NL', 'pol': 'pl-PL', 'por': 'pt-PT', 'ron': 'ro-RO', 'rus': 'ru-RU', 'slv': 'sl-SL', 'sqi': 'sq-AL',\n",
    "    'swe': 'sv-SE', 'swa': 'sw-KE', 'hin': 'hi-IN', 'kan': 'kn-IN', 'mal': 'ml-IN', 'tam': 'ta-IN', 'tel': 'te-IN', 'tha': 'th-TH', 'tgl': 'tl-PH', 'tur': 'tr-TR', 'urd': 'ur-PK', 'vie': 'vi-VN', 'cym': 'cy-GB',\n",
    "}"
   ]
  },
  {
   "cell_type": "code",
   "execution_count": 21,
   "id": "8995c7e5",
   "metadata": {},
   "outputs": [],
   "source": [
    "import json\n",
    "\n",
    "with open(\"ppl_vectors/ppl_vectors.json\") as fp:\n",
    "    ppl = json.load(fp)"
   ]
  },
  {
   "cell_type": "code",
   "execution_count": 22,
   "id": "d85853a3",
   "metadata": {},
   "outputs": [
    {
     "name": "stdout",
     "output_type": "stream",
     "text": [
      "['ind', 'tam', 'tha', 'tgl', 'eng', 'khm', 'vie', 'mya', 'jav']\n",
      "['id-ID', 'ta-IN', 'th-TH', 'tl-PH', 'en-US', 'km-KH', 'vi-VN', 'my-MM', 'jv-ID']\n"
     ]
    }
   ],
   "source": [
    "available_keys = [k for k in ppl.keys() if k in iso_to_locale]\n",
    "available_locale = [iso_to_locale[k] for k in available_keys]\n",
    "\n",
    "print(available_keys)\n",
    "print(available_locale)"
   ]
  },
  {
   "cell_type": "code",
   "execution_count": 23,
   "id": "f94d1e61",
   "metadata": {},
   "outputs": [
    {
     "name": "stdout",
     "output_type": "stream",
     "text": [
      "`--` found in ind uriel_ppl_vectors/inventory_phoible_gm_std_scaled.json\n",
      "`--` found in ind uriel_ppl_vectors/syntax_sswl_minmax_scaled.json\n",
      "`--` found in eng uriel_ppl_vectors/learned_minmax_scaled.json\n",
      "`--` found in ind uriel_ppl_vectors/inventory_phoible_spa_std_scaled.json\n",
      "`--` found in ind uriel_ppl_vectors/phonology_wals_minmax_scaled.json\n",
      "`--` found in ind uriel_ppl_vectors/inventory_phoible_upsid_minmax_scaled.json\n",
      "`--` found in ind uriel_ppl_vectors/phonology_wals_std_scaled.json\n",
      "`--` found in ind uriel_ppl_vectors/phonology_ethnologue_minmax_scaled.json\n",
      "`--` found in ind uriel_ppl_vectors/syntax_ethnologue_std_scaled.json\n",
      "`--` found in ind uriel_ppl_vectors/syntax_wals_minmax_scaled.json\n",
      "`--` found in ind uriel_ppl_vectors/inventory_phoible_spa_minmax_scaled.json\n",
      "`--` found in ind uriel_ppl_vectors/inventory_phoible_aa_minmax_scaled.json\n",
      "`--` found in ind uriel_ppl_vectors/phonology_ethnologue_std_scaled.json\n",
      "`--` found in ind uriel_ppl_vectors/inventory_ethnologue_std_scaled.json\n",
      "`--` found in ind uriel_ppl_vectors/phonology_average_minmax_scaled.json\n",
      "`--` found in tha uriel_ppl_vectors/inventory_phoible_ph_std_scaled.json\n",
      "`--` found in ind uriel_ppl_vectors/inventory_phoible_saphon_std_scaled.json\n",
      "`--` found in ind uriel_ppl_vectors/inventory_phoible_saphon_minmax_scaled.json\n",
      "`--` found in ind uriel_ppl_vectors/syntax_average_minmax_scaled.json\n",
      "`--` found in ind uriel_ppl_vectors/inventory_phoible_ra_minmax_scaled.json\n",
      "`--` found in ind uriel_ppl_vectors/inventory_phoible_ra_std_scaled.json\n",
      "`--` found in ind uriel_ppl_vectors/inventory_phoible_gm_minmax_scaled.json\n",
      "`--` found in ind uriel_ppl_vectors/syntax_wals_std_scaled.json\n",
      "`--` found in ind uriel_ppl_vectors/inventory_phoible_aa_std_scaled.json\n",
      "`--` found in ind uriel_ppl_vectors/inventory_phoible_upsid_std_scaled.json\n",
      "`--` found in eng uriel_ppl_vectors/learned_std_scaled.json\n",
      "`--` found in ind uriel_ppl_vectors/inventory_ethnologue_minmax_scaled.json\n",
      "`--` found in ind uriel_ppl_vectors/syntax_ethnologue_minmax_scaled.json\n",
      "`--` found in tha uriel_ppl_vectors/inventory_phoible_ph_minmax_scaled.json\n",
      "`--` found in ind uriel_ppl_vectors/syntax_average_std_scaled.json\n",
      "`--` found in ind uriel_ppl_vectors/syntax_sswl_std_scaled.json\n",
      "`--` found in ind uriel_ppl_vectors/phonology_average_std_scaled.json\n",
      "`--` found in tha uriel_vectors/inventory_ethnologue.json\n",
      "`--` found in tha uriel_vectors/phonology_ethnologue.json\n",
      "`--` found in tha uriel_vectors/syntax_ethnologue.json\n",
      "`--` found in tha uriel_vectors/inventory_phoible_ph.json\n",
      "`--` found in tha uriel_vectors/inventory_phoible_gm.json\n",
      "`--` found in tha uriel_vectors/syntax_average.json\n",
      "`--` found in tha uriel_vectors/inventory_phoible_ra.json\n",
      "`--` found in tha uriel_vectors/syntax_sswl.json\n",
      "`--` found in tam uriel_vectors/inventory_phoible_upsid.json\n",
      "`--` found in tam uriel_vectors/inventory_phoible_spa.json\n",
      "`--` found in tha uriel_vectors/inventory_phoible_saphon.json\n",
      "`--` found in tha uriel_vectors/phonology_average.json\n",
      "`--` found in tha uriel_vectors/inventory_phoible_aa.json\n",
      "`--` found in eng uriel_vectors/learned.json\n",
      "`--` found in tha uriel_vectors/phonology_wals.json\n",
      "`--` found in tha uriel_vectors/syntax_wals.json\n"
     ]
    }
   ],
   "source": [
    "import torch\n",
    "\n",
    "for src_path in glob.glob(\"*/*.json\"):\n",
    "    with open(src_path) as fp:\n",
    "        data = json.load(fp)\n",
    "    new_data = {}\n",
    "    is_break = False\n",
    "    for k, v in data.items():\n",
    "        if k in available_keys:\n",
    "            if '--' in v:\n",
    "                print(f'`--` found in {k}', src_path)\n",
    "                is_break = True\n",
    "                break\n",
    "            else:\n",
    "                new_data[iso_to_locale[k]] = torch.tensor(v, dtype=torch.float64)\n",
    "    if not is_break:\n",
    "        if len(set(new_data.keys()).difference(available_locale)) == 0:\n",
    "            with open(src_path.replace('.json','.pt'), 'wb') as fp:\n",
    "                torch.save(new_data, fp)"
   ]
  },
  {
   "cell_type": "code",
   "execution_count": 24,
   "id": "c38d1d61",
   "metadata": {},
   "outputs": [],
   "source": [
    "import os\n",
    "import shutil\n",
    "\n",
    "for foldername in os.listdir():\n",
    "    if not os.path.isdir(foldername):\n",
    "        continue\n",
    "    os.makedirs(f\"../vectors/{foldername.replace('_vectors', '')}\", exist_ok=True)\n",
    "    for filename in os.listdir(foldername):\n",
    "        if not filename.endswith(\".pt\"):\n",
    "            continue\n",
    "        src_path = os.path.join(foldername, filename)\n",
    "        dst_path = os.path.join(f\"../vectors/{foldername.replace('_vectors', '')}\", filename)\n",
    "        shutil.move(src_path, dst_path)"
   ]
  }
 ],
 "metadata": {
  "kernelspec": {
   "display_name": "base",
   "language": "python",
   "name": "python3"
  },
  "language_info": {
   "codemirror_mode": {
    "name": "ipython",
    "version": 3
   },
   "file_extension": ".py",
   "mimetype": "text/x-python",
   "name": "python",
   "nbconvert_exporter": "python",
   "pygments_lexer": "ipython3",
   "version": "3.12.4"
  }
 },
 "nbformat": 4,
 "nbformat_minor": 5
}
